{
 "cells": [
  {
   "cell_type": "code",
   "execution_count": 1,
   "id": "9f5fdbd5",
   "metadata": {},
   "outputs": [],
   "source": [
    "import numpy as np\n",
    "import pandas as pd\n",
    "import matplotlib.pyplot as plt"
   ]
  },
  {
   "cell_type": "code",
   "execution_count": 2,
   "id": "c8e7da05",
   "metadata": {},
   "outputs": [
    {
     "data": {
      "text/html": [
       "<div>\n",
       "<style scoped>\n",
       "    .dataframe tbody tr th:only-of-type {\n",
       "        vertical-align: middle;\n",
       "    }\n",
       "\n",
       "    .dataframe tbody tr th {\n",
       "        vertical-align: top;\n",
       "    }\n",
       "\n",
       "    .dataframe thead th {\n",
       "        text-align: right;\n",
       "    }\n",
       "</style>\n",
       "<table border=\"1\" class=\"dataframe\">\n",
       "  <thead>\n",
       "    <tr style=\"text-align: right;\">\n",
       "      <th></th>\n",
       "      <th>MODELYEAR</th>\n",
       "      <th>MAKE</th>\n",
       "      <th>MODEL</th>\n",
       "      <th>VEHICLECLASS</th>\n",
       "      <th>ENGINESIZE</th>\n",
       "      <th>CYLINDERS</th>\n",
       "      <th>TRANSMISSION</th>\n",
       "      <th>FUELTYPE</th>\n",
       "      <th>FUELCONSUMPTION_CITY</th>\n",
       "      <th>FUELCONSUMPTION_HWY</th>\n",
       "      <th>FUELCONSUMPTION_COMB</th>\n",
       "      <th>FUELCONSUMPTION_COMB_MPG</th>\n",
       "      <th>CO2EMISSIONS</th>\n",
       "    </tr>\n",
       "  </thead>\n",
       "  <tbody>\n",
       "    <tr>\n",
       "      <th>0</th>\n",
       "      <td>2014</td>\n",
       "      <td>ACURA</td>\n",
       "      <td>ILX</td>\n",
       "      <td>COMPACT</td>\n",
       "      <td>2.0</td>\n",
       "      <td>4</td>\n",
       "      <td>AS5</td>\n",
       "      <td>Z</td>\n",
       "      <td>9.9</td>\n",
       "      <td>6.7</td>\n",
       "      <td>8.5</td>\n",
       "      <td>33</td>\n",
       "      <td>196</td>\n",
       "    </tr>\n",
       "    <tr>\n",
       "      <th>1</th>\n",
       "      <td>2014</td>\n",
       "      <td>ACURA</td>\n",
       "      <td>ILX</td>\n",
       "      <td>COMPACT</td>\n",
       "      <td>2.4</td>\n",
       "      <td>4</td>\n",
       "      <td>M6</td>\n",
       "      <td>Z</td>\n",
       "      <td>11.2</td>\n",
       "      <td>7.7</td>\n",
       "      <td>9.6</td>\n",
       "      <td>29</td>\n",
       "      <td>221</td>\n",
       "    </tr>\n",
       "    <tr>\n",
       "      <th>2</th>\n",
       "      <td>2014</td>\n",
       "      <td>ACURA</td>\n",
       "      <td>ILX HYBRID</td>\n",
       "      <td>COMPACT</td>\n",
       "      <td>1.5</td>\n",
       "      <td>4</td>\n",
       "      <td>AV7</td>\n",
       "      <td>Z</td>\n",
       "      <td>6.0</td>\n",
       "      <td>5.8</td>\n",
       "      <td>5.9</td>\n",
       "      <td>48</td>\n",
       "      <td>136</td>\n",
       "    </tr>\n",
       "    <tr>\n",
       "      <th>3</th>\n",
       "      <td>2014</td>\n",
       "      <td>ACURA</td>\n",
       "      <td>MDX 4WD</td>\n",
       "      <td>SUV - SMALL</td>\n",
       "      <td>3.5</td>\n",
       "      <td>6</td>\n",
       "      <td>AS6</td>\n",
       "      <td>Z</td>\n",
       "      <td>12.7</td>\n",
       "      <td>9.1</td>\n",
       "      <td>11.1</td>\n",
       "      <td>25</td>\n",
       "      <td>255</td>\n",
       "    </tr>\n",
       "    <tr>\n",
       "      <th>4</th>\n",
       "      <td>2014</td>\n",
       "      <td>ACURA</td>\n",
       "      <td>RDX AWD</td>\n",
       "      <td>SUV - SMALL</td>\n",
       "      <td>3.5</td>\n",
       "      <td>6</td>\n",
       "      <td>AS6</td>\n",
       "      <td>Z</td>\n",
       "      <td>12.1</td>\n",
       "      <td>8.7</td>\n",
       "      <td>10.6</td>\n",
       "      <td>27</td>\n",
       "      <td>244</td>\n",
       "    </tr>\n",
       "  </tbody>\n",
       "</table>\n",
       "</div>"
      ],
      "text/plain": [
       "   MODELYEAR   MAKE       MODEL VEHICLECLASS  ENGINESIZE  CYLINDERS  \\\n",
       "0       2014  ACURA         ILX      COMPACT         2.0          4   \n",
       "1       2014  ACURA         ILX      COMPACT         2.4          4   \n",
       "2       2014  ACURA  ILX HYBRID      COMPACT         1.5          4   \n",
       "3       2014  ACURA     MDX 4WD  SUV - SMALL         3.5          6   \n",
       "4       2014  ACURA     RDX AWD  SUV - SMALL         3.5          6   \n",
       "\n",
       "  TRANSMISSION FUELTYPE  FUELCONSUMPTION_CITY  FUELCONSUMPTION_HWY  \\\n",
       "0          AS5        Z                   9.9                  6.7   \n",
       "1           M6        Z                  11.2                  7.7   \n",
       "2          AV7        Z                   6.0                  5.8   \n",
       "3          AS6        Z                  12.7                  9.1   \n",
       "4          AS6        Z                  12.1                  8.7   \n",
       "\n",
       "   FUELCONSUMPTION_COMB  FUELCONSUMPTION_COMB_MPG  CO2EMISSIONS  \n",
       "0                   8.5                        33           196  \n",
       "1                   9.6                        29           221  \n",
       "2                   5.9                        48           136  \n",
       "3                  11.1                        25           255  \n",
       "4                  10.6                        27           244  "
      ]
     },
     "execution_count": 2,
     "metadata": {},
     "output_type": "execute_result"
    }
   ],
   "source": [
    "df = pd.read_csv(\"FuelConsumption.csv\")\n",
    "df.head()"
   ]
  },
  {
   "cell_type": "code",
   "execution_count": 4,
   "id": "26c3a871",
   "metadata": {},
   "outputs": [
    {
     "data": {
      "text/html": [
       "<div>\n",
       "<style scoped>\n",
       "    .dataframe tbody tr th:only-of-type {\n",
       "        vertical-align: middle;\n",
       "    }\n",
       "\n",
       "    .dataframe tbody tr th {\n",
       "        vertical-align: top;\n",
       "    }\n",
       "\n",
       "    .dataframe thead th {\n",
       "        text-align: right;\n",
       "    }\n",
       "</style>\n",
       "<table border=\"1\" class=\"dataframe\">\n",
       "  <thead>\n",
       "    <tr style=\"text-align: right;\">\n",
       "      <th></th>\n",
       "      <th>MODELYEAR</th>\n",
       "      <th>ENGINESIZE</th>\n",
       "      <th>CYLINDERS</th>\n",
       "      <th>FUELCONSUMPTION_CITY</th>\n",
       "      <th>FUELCONSUMPTION_HWY</th>\n",
       "      <th>FUELCONSUMPTION_COMB</th>\n",
       "      <th>FUELCONSUMPTION_COMB_MPG</th>\n",
       "      <th>CO2EMISSIONS</th>\n",
       "    </tr>\n",
       "  </thead>\n",
       "  <tbody>\n",
       "    <tr>\n",
       "      <th>count</th>\n",
       "      <td>1067.0</td>\n",
       "      <td>1067.000000</td>\n",
       "      <td>1067.000000</td>\n",
       "      <td>1067.000000</td>\n",
       "      <td>1067.000000</td>\n",
       "      <td>1067.000000</td>\n",
       "      <td>1067.000000</td>\n",
       "      <td>1067.000000</td>\n",
       "    </tr>\n",
       "    <tr>\n",
       "      <th>mean</th>\n",
       "      <td>2014.0</td>\n",
       "      <td>3.346298</td>\n",
       "      <td>5.794752</td>\n",
       "      <td>13.296532</td>\n",
       "      <td>9.474602</td>\n",
       "      <td>11.580881</td>\n",
       "      <td>26.441425</td>\n",
       "      <td>256.228679</td>\n",
       "    </tr>\n",
       "    <tr>\n",
       "      <th>std</th>\n",
       "      <td>0.0</td>\n",
       "      <td>1.415895</td>\n",
       "      <td>1.797447</td>\n",
       "      <td>4.101253</td>\n",
       "      <td>2.794510</td>\n",
       "      <td>3.485595</td>\n",
       "      <td>7.468702</td>\n",
       "      <td>63.372304</td>\n",
       "    </tr>\n",
       "    <tr>\n",
       "      <th>min</th>\n",
       "      <td>2014.0</td>\n",
       "      <td>1.000000</td>\n",
       "      <td>3.000000</td>\n",
       "      <td>4.600000</td>\n",
       "      <td>4.900000</td>\n",
       "      <td>4.700000</td>\n",
       "      <td>11.000000</td>\n",
       "      <td>108.000000</td>\n",
       "    </tr>\n",
       "    <tr>\n",
       "      <th>25%</th>\n",
       "      <td>2014.0</td>\n",
       "      <td>2.000000</td>\n",
       "      <td>4.000000</td>\n",
       "      <td>10.250000</td>\n",
       "      <td>7.500000</td>\n",
       "      <td>9.000000</td>\n",
       "      <td>21.000000</td>\n",
       "      <td>207.000000</td>\n",
       "    </tr>\n",
       "    <tr>\n",
       "      <th>50%</th>\n",
       "      <td>2014.0</td>\n",
       "      <td>3.400000</td>\n",
       "      <td>6.000000</td>\n",
       "      <td>12.600000</td>\n",
       "      <td>8.800000</td>\n",
       "      <td>10.900000</td>\n",
       "      <td>26.000000</td>\n",
       "      <td>251.000000</td>\n",
       "    </tr>\n",
       "    <tr>\n",
       "      <th>75%</th>\n",
       "      <td>2014.0</td>\n",
       "      <td>4.300000</td>\n",
       "      <td>8.000000</td>\n",
       "      <td>15.550000</td>\n",
       "      <td>10.850000</td>\n",
       "      <td>13.350000</td>\n",
       "      <td>31.000000</td>\n",
       "      <td>294.000000</td>\n",
       "    </tr>\n",
       "    <tr>\n",
       "      <th>max</th>\n",
       "      <td>2014.0</td>\n",
       "      <td>8.400000</td>\n",
       "      <td>12.000000</td>\n",
       "      <td>30.200000</td>\n",
       "      <td>20.500000</td>\n",
       "      <td>25.800000</td>\n",
       "      <td>60.000000</td>\n",
       "      <td>488.000000</td>\n",
       "    </tr>\n",
       "  </tbody>\n",
       "</table>\n",
       "</div>"
      ],
      "text/plain": [
       "       MODELYEAR   ENGINESIZE    CYLINDERS  FUELCONSUMPTION_CITY  \\\n",
       "count     1067.0  1067.000000  1067.000000           1067.000000   \n",
       "mean      2014.0     3.346298     5.794752             13.296532   \n",
       "std          0.0     1.415895     1.797447              4.101253   \n",
       "min       2014.0     1.000000     3.000000              4.600000   \n",
       "25%       2014.0     2.000000     4.000000             10.250000   \n",
       "50%       2014.0     3.400000     6.000000             12.600000   \n",
       "75%       2014.0     4.300000     8.000000             15.550000   \n",
       "max       2014.0     8.400000    12.000000             30.200000   \n",
       "\n",
       "       FUELCONSUMPTION_HWY  FUELCONSUMPTION_COMB  FUELCONSUMPTION_COMB_MPG  \\\n",
       "count          1067.000000           1067.000000               1067.000000   \n",
       "mean              9.474602             11.580881                 26.441425   \n",
       "std               2.794510              3.485595                  7.468702   \n",
       "min               4.900000              4.700000                 11.000000   \n",
       "25%               7.500000              9.000000                 21.000000   \n",
       "50%               8.800000             10.900000                 26.000000   \n",
       "75%              10.850000             13.350000                 31.000000   \n",
       "max              20.500000             25.800000                 60.000000   \n",
       "\n",
       "       CO2EMISSIONS  \n",
       "count   1067.000000  \n",
       "mean     256.228679  \n",
       "std       63.372304  \n",
       "min      108.000000  \n",
       "25%      207.000000  \n",
       "50%      251.000000  \n",
       "75%      294.000000  \n",
       "max      488.000000  "
      ]
     },
     "execution_count": 4,
     "metadata": {},
     "output_type": "execute_result"
    }
   ],
   "source": [
    "df.describe()"
   ]
  },
  {
   "cell_type": "code",
   "execution_count": 5,
   "id": "e0461bf7",
   "metadata": {
    "scrolled": false
   },
   "outputs": [
    {
     "name": "stdout",
     "output_type": "stream",
     "text": [
      "<class 'pandas.core.frame.DataFrame'>\n",
      "RangeIndex: 1067 entries, 0 to 1066\n",
      "Data columns (total 13 columns):\n",
      " #   Column                    Non-Null Count  Dtype  \n",
      "---  ------                    --------------  -----  \n",
      " 0   MODELYEAR                 1067 non-null   int64  \n",
      " 1   MAKE                      1067 non-null   object \n",
      " 2   MODEL                     1067 non-null   object \n",
      " 3   VEHICLECLASS              1067 non-null   object \n",
      " 4   ENGINESIZE                1067 non-null   float64\n",
      " 5   CYLINDERS                 1067 non-null   int64  \n",
      " 6   TRANSMISSION              1067 non-null   object \n",
      " 7   FUELTYPE                  1067 non-null   object \n",
      " 8   FUELCONSUMPTION_CITY      1067 non-null   float64\n",
      " 9   FUELCONSUMPTION_HWY       1067 non-null   float64\n",
      " 10  FUELCONSUMPTION_COMB      1067 non-null   float64\n",
      " 11  FUELCONSUMPTION_COMB_MPG  1067 non-null   int64  \n",
      " 12  CO2EMISSIONS              1067 non-null   int64  \n",
      "dtypes: float64(4), int64(4), object(5)\n",
      "memory usage: 108.5+ KB\n"
     ]
    }
   ],
   "source": [
    "df.info()"
   ]
  },
  {
   "cell_type": "code",
   "execution_count": 6,
   "id": "238e6bd5",
   "metadata": {},
   "outputs": [
    {
     "data": {
      "text/html": [
       "<div>\n",
       "<style scoped>\n",
       "    .dataframe tbody tr th:only-of-type {\n",
       "        vertical-align: middle;\n",
       "    }\n",
       "\n",
       "    .dataframe tbody tr th {\n",
       "        vertical-align: top;\n",
       "    }\n",
       "\n",
       "    .dataframe thead th {\n",
       "        text-align: right;\n",
       "    }\n",
       "</style>\n",
       "<table border=\"1\" class=\"dataframe\">\n",
       "  <thead>\n",
       "    <tr style=\"text-align: right;\">\n",
       "      <th></th>\n",
       "      <th>MODELYEAR</th>\n",
       "      <th>MAKE</th>\n",
       "      <th>MODEL</th>\n",
       "      <th>VEHICLECLASS</th>\n",
       "      <th>ENGINESIZE</th>\n",
       "      <th>CYLINDERS</th>\n",
       "      <th>TRANSMISSION</th>\n",
       "      <th>FUELTYPE</th>\n",
       "      <th>FUELCONSUMPTION_CITY</th>\n",
       "      <th>FUELCONSUMPTION_HWY</th>\n",
       "      <th>FUELCONSUMPTION_COMB</th>\n",
       "      <th>FUELCONSUMPTION_COMB_MPG</th>\n",
       "      <th>CO2EMISSIONS</th>\n",
       "    </tr>\n",
       "  </thead>\n",
       "  <tbody>\n",
       "    <tr>\n",
       "      <th>0</th>\n",
       "      <td>2014</td>\n",
       "      <td>ACURA</td>\n",
       "      <td>ILX</td>\n",
       "      <td>COMPACT</td>\n",
       "      <td>2.0</td>\n",
       "      <td>4</td>\n",
       "      <td>AS5</td>\n",
       "      <td>Z</td>\n",
       "      <td>9.9</td>\n",
       "      <td>6.7</td>\n",
       "      <td>8.5</td>\n",
       "      <td>33</td>\n",
       "      <td>196</td>\n",
       "    </tr>\n",
       "    <tr>\n",
       "      <th>1</th>\n",
       "      <td>2014</td>\n",
       "      <td>ACURA</td>\n",
       "      <td>ILX</td>\n",
       "      <td>COMPACT</td>\n",
       "      <td>2.4</td>\n",
       "      <td>4</td>\n",
       "      <td>M6</td>\n",
       "      <td>Z</td>\n",
       "      <td>11.2</td>\n",
       "      <td>7.7</td>\n",
       "      <td>9.6</td>\n",
       "      <td>29</td>\n",
       "      <td>221</td>\n",
       "    </tr>\n",
       "    <tr>\n",
       "      <th>2</th>\n",
       "      <td>2014</td>\n",
       "      <td>ACURA</td>\n",
       "      <td>ILX HYBRID</td>\n",
       "      <td>COMPACT</td>\n",
       "      <td>1.5</td>\n",
       "      <td>4</td>\n",
       "      <td>AV7</td>\n",
       "      <td>Z</td>\n",
       "      <td>6.0</td>\n",
       "      <td>5.8</td>\n",
       "      <td>5.9</td>\n",
       "      <td>48</td>\n",
       "      <td>136</td>\n",
       "    </tr>\n",
       "    <tr>\n",
       "      <th>3</th>\n",
       "      <td>2014</td>\n",
       "      <td>ACURA</td>\n",
       "      <td>MDX 4WD</td>\n",
       "      <td>SUV - SMALL</td>\n",
       "      <td>3.5</td>\n",
       "      <td>6</td>\n",
       "      <td>AS6</td>\n",
       "      <td>Z</td>\n",
       "      <td>12.7</td>\n",
       "      <td>9.1</td>\n",
       "      <td>11.1</td>\n",
       "      <td>25</td>\n",
       "      <td>255</td>\n",
       "    </tr>\n",
       "    <tr>\n",
       "      <th>4</th>\n",
       "      <td>2014</td>\n",
       "      <td>ACURA</td>\n",
       "      <td>RDX AWD</td>\n",
       "      <td>SUV - SMALL</td>\n",
       "      <td>3.5</td>\n",
       "      <td>6</td>\n",
       "      <td>AS6</td>\n",
       "      <td>Z</td>\n",
       "      <td>12.1</td>\n",
       "      <td>8.7</td>\n",
       "      <td>10.6</td>\n",
       "      <td>27</td>\n",
       "      <td>244</td>\n",
       "    </tr>\n",
       "    <tr>\n",
       "      <th>...</th>\n",
       "      <td>...</td>\n",
       "      <td>...</td>\n",
       "      <td>...</td>\n",
       "      <td>...</td>\n",
       "      <td>...</td>\n",
       "      <td>...</td>\n",
       "      <td>...</td>\n",
       "      <td>...</td>\n",
       "      <td>...</td>\n",
       "      <td>...</td>\n",
       "      <td>...</td>\n",
       "      <td>...</td>\n",
       "      <td>...</td>\n",
       "    </tr>\n",
       "    <tr>\n",
       "      <th>1062</th>\n",
       "      <td>2014</td>\n",
       "      <td>VOLVO</td>\n",
       "      <td>XC60 AWD</td>\n",
       "      <td>SUV - SMALL</td>\n",
       "      <td>3.0</td>\n",
       "      <td>6</td>\n",
       "      <td>AS6</td>\n",
       "      <td>X</td>\n",
       "      <td>13.4</td>\n",
       "      <td>9.8</td>\n",
       "      <td>11.8</td>\n",
       "      <td>24</td>\n",
       "      <td>271</td>\n",
       "    </tr>\n",
       "    <tr>\n",
       "      <th>1063</th>\n",
       "      <td>2014</td>\n",
       "      <td>VOLVO</td>\n",
       "      <td>XC60 AWD</td>\n",
       "      <td>SUV - SMALL</td>\n",
       "      <td>3.2</td>\n",
       "      <td>6</td>\n",
       "      <td>AS6</td>\n",
       "      <td>X</td>\n",
       "      <td>13.2</td>\n",
       "      <td>9.5</td>\n",
       "      <td>11.5</td>\n",
       "      <td>25</td>\n",
       "      <td>264</td>\n",
       "    </tr>\n",
       "    <tr>\n",
       "      <th>1064</th>\n",
       "      <td>2014</td>\n",
       "      <td>VOLVO</td>\n",
       "      <td>XC70 AWD</td>\n",
       "      <td>SUV - SMALL</td>\n",
       "      <td>3.0</td>\n",
       "      <td>6</td>\n",
       "      <td>AS6</td>\n",
       "      <td>X</td>\n",
       "      <td>13.4</td>\n",
       "      <td>9.8</td>\n",
       "      <td>11.8</td>\n",
       "      <td>24</td>\n",
       "      <td>271</td>\n",
       "    </tr>\n",
       "    <tr>\n",
       "      <th>1065</th>\n",
       "      <td>2014</td>\n",
       "      <td>VOLVO</td>\n",
       "      <td>XC70 AWD</td>\n",
       "      <td>SUV - SMALL</td>\n",
       "      <td>3.2</td>\n",
       "      <td>6</td>\n",
       "      <td>AS6</td>\n",
       "      <td>X</td>\n",
       "      <td>12.9</td>\n",
       "      <td>9.3</td>\n",
       "      <td>11.3</td>\n",
       "      <td>25</td>\n",
       "      <td>260</td>\n",
       "    </tr>\n",
       "    <tr>\n",
       "      <th>1066</th>\n",
       "      <td>2014</td>\n",
       "      <td>VOLVO</td>\n",
       "      <td>XC90 AWD</td>\n",
       "      <td>SUV - STANDARD</td>\n",
       "      <td>3.2</td>\n",
       "      <td>6</td>\n",
       "      <td>AS6</td>\n",
       "      <td>X</td>\n",
       "      <td>14.9</td>\n",
       "      <td>10.2</td>\n",
       "      <td>12.8</td>\n",
       "      <td>22</td>\n",
       "      <td>294</td>\n",
       "    </tr>\n",
       "  </tbody>\n",
       "</table>\n",
       "<p>1067 rows × 13 columns</p>\n",
       "</div>"
      ],
      "text/plain": [
       "      MODELYEAR   MAKE       MODEL    VEHICLECLASS  ENGINESIZE  CYLINDERS  \\\n",
       "0          2014  ACURA         ILX         COMPACT         2.0          4   \n",
       "1          2014  ACURA         ILX         COMPACT         2.4          4   \n",
       "2          2014  ACURA  ILX HYBRID         COMPACT         1.5          4   \n",
       "3          2014  ACURA     MDX 4WD     SUV - SMALL         3.5          6   \n",
       "4          2014  ACURA     RDX AWD     SUV - SMALL         3.5          6   \n",
       "...         ...    ...         ...             ...         ...        ...   \n",
       "1062       2014  VOLVO    XC60 AWD     SUV - SMALL         3.0          6   \n",
       "1063       2014  VOLVO    XC60 AWD     SUV - SMALL         3.2          6   \n",
       "1064       2014  VOLVO    XC70 AWD     SUV - SMALL         3.0          6   \n",
       "1065       2014  VOLVO    XC70 AWD     SUV - SMALL         3.2          6   \n",
       "1066       2014  VOLVO    XC90 AWD  SUV - STANDARD         3.2          6   \n",
       "\n",
       "     TRANSMISSION FUELTYPE  FUELCONSUMPTION_CITY  FUELCONSUMPTION_HWY  \\\n",
       "0             AS5        Z                   9.9                  6.7   \n",
       "1              M6        Z                  11.2                  7.7   \n",
       "2             AV7        Z                   6.0                  5.8   \n",
       "3             AS6        Z                  12.7                  9.1   \n",
       "4             AS6        Z                  12.1                  8.7   \n",
       "...           ...      ...                   ...                  ...   \n",
       "1062          AS6        X                  13.4                  9.8   \n",
       "1063          AS6        X                  13.2                  9.5   \n",
       "1064          AS6        X                  13.4                  9.8   \n",
       "1065          AS6        X                  12.9                  9.3   \n",
       "1066          AS6        X                  14.9                 10.2   \n",
       "\n",
       "      FUELCONSUMPTION_COMB  FUELCONSUMPTION_COMB_MPG  CO2EMISSIONS  \n",
       "0                      8.5                        33           196  \n",
       "1                      9.6                        29           221  \n",
       "2                      5.9                        48           136  \n",
       "3                     11.1                        25           255  \n",
       "4                     10.6                        27           244  \n",
       "...                    ...                       ...           ...  \n",
       "1062                  11.8                        24           271  \n",
       "1063                  11.5                        25           264  \n",
       "1064                  11.8                        24           271  \n",
       "1065                  11.3                        25           260  \n",
       "1066                  12.8                        22           294  \n",
       "\n",
       "[1067 rows x 13 columns]"
      ]
     },
     "execution_count": 6,
     "metadata": {},
     "output_type": "execute_result"
    }
   ],
   "source": [
    "df"
   ]
  },
  {
   "cell_type": "code",
   "execution_count": 9,
   "id": "3390ed5f",
   "metadata": {},
   "outputs": [],
   "source": [
    "cdf =df[[\"ENGINESIZE\",\"CYLINDERS\",\"FUELCONSUMPTION_CITY\",\"FUELCONSUMPTION_COMB\",\"CO2EMISSIONS\"]]"
   ]
  },
  {
   "cell_type": "code",
   "execution_count": 10,
   "id": "389a2a95",
   "metadata": {},
   "outputs": [
    {
     "data": {
      "text/html": [
       "<div>\n",
       "<style scoped>\n",
       "    .dataframe tbody tr th:only-of-type {\n",
       "        vertical-align: middle;\n",
       "    }\n",
       "\n",
       "    .dataframe tbody tr th {\n",
       "        vertical-align: top;\n",
       "    }\n",
       "\n",
       "    .dataframe thead th {\n",
       "        text-align: right;\n",
       "    }\n",
       "</style>\n",
       "<table border=\"1\" class=\"dataframe\">\n",
       "  <thead>\n",
       "    <tr style=\"text-align: right;\">\n",
       "      <th></th>\n",
       "      <th>ENGINESIZE</th>\n",
       "      <th>CYLINDERS</th>\n",
       "      <th>FUELCONSUMPTION_CITY</th>\n",
       "      <th>FUELCONSUMPTION_COMB</th>\n",
       "      <th>CO2EMISSIONS</th>\n",
       "    </tr>\n",
       "  </thead>\n",
       "  <tbody>\n",
       "    <tr>\n",
       "      <th>0</th>\n",
       "      <td>2.0</td>\n",
       "      <td>4</td>\n",
       "      <td>9.9</td>\n",
       "      <td>8.5</td>\n",
       "      <td>196</td>\n",
       "    </tr>\n",
       "    <tr>\n",
       "      <th>1</th>\n",
       "      <td>2.4</td>\n",
       "      <td>4</td>\n",
       "      <td>11.2</td>\n",
       "      <td>9.6</td>\n",
       "      <td>221</td>\n",
       "    </tr>\n",
       "    <tr>\n",
       "      <th>2</th>\n",
       "      <td>1.5</td>\n",
       "      <td>4</td>\n",
       "      <td>6.0</td>\n",
       "      <td>5.9</td>\n",
       "      <td>136</td>\n",
       "    </tr>\n",
       "    <tr>\n",
       "      <th>3</th>\n",
       "      <td>3.5</td>\n",
       "      <td>6</td>\n",
       "      <td>12.7</td>\n",
       "      <td>11.1</td>\n",
       "      <td>255</td>\n",
       "    </tr>\n",
       "    <tr>\n",
       "      <th>4</th>\n",
       "      <td>3.5</td>\n",
       "      <td>6</td>\n",
       "      <td>12.1</td>\n",
       "      <td>10.6</td>\n",
       "      <td>244</td>\n",
       "    </tr>\n",
       "    <tr>\n",
       "      <th>...</th>\n",
       "      <td>...</td>\n",
       "      <td>...</td>\n",
       "      <td>...</td>\n",
       "      <td>...</td>\n",
       "      <td>...</td>\n",
       "    </tr>\n",
       "    <tr>\n",
       "      <th>1062</th>\n",
       "      <td>3.0</td>\n",
       "      <td>6</td>\n",
       "      <td>13.4</td>\n",
       "      <td>11.8</td>\n",
       "      <td>271</td>\n",
       "    </tr>\n",
       "    <tr>\n",
       "      <th>1063</th>\n",
       "      <td>3.2</td>\n",
       "      <td>6</td>\n",
       "      <td>13.2</td>\n",
       "      <td>11.5</td>\n",
       "      <td>264</td>\n",
       "    </tr>\n",
       "    <tr>\n",
       "      <th>1064</th>\n",
       "      <td>3.0</td>\n",
       "      <td>6</td>\n",
       "      <td>13.4</td>\n",
       "      <td>11.8</td>\n",
       "      <td>271</td>\n",
       "    </tr>\n",
       "    <tr>\n",
       "      <th>1065</th>\n",
       "      <td>3.2</td>\n",
       "      <td>6</td>\n",
       "      <td>12.9</td>\n",
       "      <td>11.3</td>\n",
       "      <td>260</td>\n",
       "    </tr>\n",
       "    <tr>\n",
       "      <th>1066</th>\n",
       "      <td>3.2</td>\n",
       "      <td>6</td>\n",
       "      <td>14.9</td>\n",
       "      <td>12.8</td>\n",
       "      <td>294</td>\n",
       "    </tr>\n",
       "  </tbody>\n",
       "</table>\n",
       "<p>1067 rows × 5 columns</p>\n",
       "</div>"
      ],
      "text/plain": [
       "      ENGINESIZE  CYLINDERS  FUELCONSUMPTION_CITY  FUELCONSUMPTION_COMB  \\\n",
       "0            2.0          4                   9.9                   8.5   \n",
       "1            2.4          4                  11.2                   9.6   \n",
       "2            1.5          4                   6.0                   5.9   \n",
       "3            3.5          6                  12.7                  11.1   \n",
       "4            3.5          6                  12.1                  10.6   \n",
       "...          ...        ...                   ...                   ...   \n",
       "1062         3.0          6                  13.4                  11.8   \n",
       "1063         3.2          6                  13.2                  11.5   \n",
       "1064         3.0          6                  13.4                  11.8   \n",
       "1065         3.2          6                  12.9                  11.3   \n",
       "1066         3.2          6                  14.9                  12.8   \n",
       "\n",
       "      CO2EMISSIONS  \n",
       "0              196  \n",
       "1              221  \n",
       "2              136  \n",
       "3              255  \n",
       "4              244  \n",
       "...            ...  \n",
       "1062           271  \n",
       "1063           264  \n",
       "1064           271  \n",
       "1065           260  \n",
       "1066           294  \n",
       "\n",
       "[1067 rows x 5 columns]"
      ]
     },
     "execution_count": 10,
     "metadata": {},
     "output_type": "execute_result"
    }
   ],
   "source": [
    "cdf"
   ]
  },
  {
   "cell_type": "code",
   "execution_count": 11,
   "id": "9c57eec2",
   "metadata": {},
   "outputs": [
    {
     "data": {
      "text/plain": [
       "0       2.0\n",
       "1       2.4\n",
       "2       1.5\n",
       "3       3.5\n",
       "4       3.5\n",
       "       ... \n",
       "1062    3.0\n",
       "1063    3.2\n",
       "1064    3.0\n",
       "1065    3.2\n",
       "1066    3.2\n",
       "Name: ENGINESIZE, Length: 1067, dtype: float64"
      ]
     },
     "execution_count": 11,
     "metadata": {},
     "output_type": "execute_result"
    }
   ],
   "source": [
    "cdf.ENGINESIZE"
   ]
  },
  {
   "cell_type": "code",
   "execution_count": 14,
   "id": "b979b9ba",
   "metadata": {},
   "outputs": [
    {
     "data": {
      "image/png": "[encoded data removed]",
      "text/plain": [
       "<Figure size 640x480 with 1 Axes>"
      ]
     },
     "metadata": {},
     "output_type": "display_data"
    }
   ],
   "source": [
    "###Plot scatter\n",
    "plt.scatter(cdf.ENGINESIZE ,cdf.CO2EMISSIONS,color =\"b\",marker =\"*\")\n",
    "plt.xlabel(\"ENGINESIZE\")\n",
    "plt.ylabel(\"CO2EMISSIONS\")\n",
    "plt.show()"
   ]
  },
  {
   "cell_type": "code",
   "execution_count": 15,
   "id": "dc58cb55",
   "metadata": {
    "scrolled": true
   },
   "outputs": [
    {
     "data": {
      "image/png": "[encoded data removed]",
      "text/plain": [
       "<Figure size 640x480 with 1 Axes>"
      ]
     },
     "metadata": {},
     "output_type": "display_data"
    }
   ],
   "source": [
    "###Plot scatter\n",
    "plt.scatter(cdf.ENGINESIZE ,cdf.CYLINDERS,color =\"b\",marker =\"o\")\n",
    "plt.xlabel(\"ENGINESIZE\")\n",
    "plt.ylabel(\"CYLINDERS\")\n",
    "plt.show()"
   ]
  },
  {
   "cell_type": "code",
   "execution_count": 21,
   "id": "7aaf4e6b",
   "metadata": {},
   "outputs": [],
   "source": [
    "X =cdf[[\"ENGINESIZE\",\"CYLINDERS\",\"FUELCONSUMPTION_CITY\",\"FUELCONSUMPTION_COMB\",\"CO2EMISSIONS\"]]"
   ]
  },
  {
   "cell_type": "code",
   "execution_count": 23,
   "id": "3ade8ae7",
   "metadata": {},
   "outputs": [],
   "source": [
    "y =cdf[[\"CO2EMISSIONS\"]]"
   ]
  },
  {
   "cell_type": "code",
   "execution_count": 24,
   "id": "a100b40b",
   "metadata": {},
   "outputs": [],
   "source": [
    "## Train test split\n",
    "from sklearn.model_selection import train_test_split\n",
    "X_train, X_test, y_train, y_test = train_test_split(\n",
    "    X, y, test_size=0.33, random_state=42)"
   ]
  },
  {
   "cell_type": "code",
   "execution_count": 28,
   "id": "44220035",
   "metadata": {},
   "outputs": [
    {
     "data": {
      "text/plain": [
       "(714, 5)"
      ]
     },
     "execution_count": 28,
     "metadata": {},
     "output_type": "execute_result"
    }
   ],
   "source": [
    "X_train.shape"
   ]
  },
  {
   "cell_type": "code",
   "execution_count": 29,
   "id": "93f1bf1e",
   "metadata": {},
   "outputs": [
    {
     "data": {
      "text/plain": [
       "(353, 5)"
      ]
     },
     "execution_count": 29,
     "metadata": {},
     "output_type": "execute_result"
    }
   ],
   "source": [
    "X_test.shape"
   ]
  },
  {
   "cell_type": "code",
   "execution_count": 30,
   "id": "e27ff924",
   "metadata": {},
   "outputs": [
    {
     "data": {
      "text/plain": [
       "(714, 1)"
      ]
     },
     "execution_count": 30,
     "metadata": {},
     "output_type": "execute_result"
    }
   ],
   "source": [
    "y_train.shape"
   ]
  },
  {
   "cell_type": "code",
   "execution_count": 39,
   "id": "5a33d8c7",
   "metadata": {},
   "outputs": [],
   "source": [
    "X_train =np.asanyarray(X_train)\n",
    "X_test =np.asanyarray(X_test)"
   ]
  },
  {
   "cell_type": "code",
   "execution_count": 36,
   "id": "2d59bbec",
   "metadata": {},
   "outputs": [
    {
     "data": {
      "text/plain": [
       "array([[-1.23379935, -0.98700801, -1.13200738, -1.00876459, -1.12042231],\n",
       "       [-0.23927808,  0.12191995, -0.37001445, -0.3726476 , -0.31221609],\n",
       "       [-0.59446425, -0.98700801, -1.20574863, -1.24007986, -1.40567156],\n",
       "       ...,\n",
       "       [ 0.7552432 ,  1.23084792,  0.71152389,  0.6393567 ,  0.95555836],\n",
       "       [-1.09172488, -0.98700801, -0.81246196, -0.86419255, -0.93025614],\n",
       "       [ 1.60769   ,  1.23084792,  1.57183848,  1.651361  ,  2.23918   ]])"
      ]
     },
     "execution_count": 36,
     "metadata": {},
     "output_type": "execute_result"
    }
   ],
   "source": [
    "X_train"
   ]
  },
  {
   "cell_type": "code",
   "execution_count": 40,
   "id": "74cdb423",
   "metadata": {},
   "outputs": [
    {
     "data": {
      "text/plain": [
       "array([[ 0.9683549 ,  1.23084792,  0.51488055,  0.46587025,  0.74954501],\n",
       "       [ 0.11590809,  0.12191995, -0.49291654, -0.57504846, -0.56577099],\n",
       "       [ 0.18694533,  0.12191995,  0.4411393 ,  0.35021261,  0.59107321],\n",
       "       ...,\n",
       "       [ 2.0339134 ,  1.23084792,  0.09701347, -0.11241792,  0.0205747 ],\n",
       "       [-1.23379935, -0.98700801, -0.98452488, -0.89310696, -0.9619505 ],\n",
       "       [-0.94965041, -0.98700801, -0.81246196, -0.92202136, -1.00949205]])"
      ]
     },
     "execution_count": 40,
     "metadata": {},
     "output_type": "execute_result"
    }
   ],
   "source": [
    "X_test"
   ]
  },
  {
   "cell_type": "code",
   "execution_count": null,
   "id": "b38190e8",
   "metadata": {},
   "outputs": [],
   "source": []
  },
  {
   "cell_type": "code",
   "execution_count": 33,
   "id": "c6757240",
   "metadata": {},
   "outputs": [
    {
     "data": {
      "text/plain": [
       "StandardScaler()"
      ]
     },
     "execution_count": 33,
     "metadata": {},
     "output_type": "execute_result"
    }
   ],
   "source": [
    "from sklearn.preprocessing import StandardScaler\n",
    "scaler = StandardScaler()\n",
    "scaler"
   ]
  },
  {
   "cell_type": "code",
   "execution_count": 34,
   "id": "156f5b39",
   "metadata": {},
   "outputs": [
    {
     "data": {
      "text/plain": [
       "array([[-1.23379935, -0.98700801, -1.13200738, -1.00876459, -1.12042231],\n",
       "       [-0.23927808,  0.12191995, -0.37001445, -0.3726476 , -0.31221609],\n",
       "       [-0.59446425, -0.98700801, -1.20574863, -1.24007986, -1.40567156],\n",
       "       ...,\n",
       "       [ 0.7552432 ,  1.23084792,  0.71152389,  0.6393567 ,  0.95555836],\n",
       "       [-1.09172488, -0.98700801, -0.81246196, -0.86419255, -0.93025614],\n",
       "       [ 1.60769   ,  1.23084792,  1.57183848,  1.651361  ,  2.23918   ]])"
      ]
     },
     "execution_count": 34,
     "metadata": {},
     "output_type": "execute_result"
    }
   ],
   "source": [
    "X_train =scaler.fit_transform(X_train)\n",
    "X_train"
   ]
  },
  {
   "cell_type": "code",
   "execution_count": 37,
   "id": "81c8a2cd",
   "metadata": {},
   "outputs": [],
   "source": [
    "X_test =scaler.transform(X_test)"
   ]
  },
  {
   "cell_type": "code",
   "execution_count": 38,
   "id": "29282506",
   "metadata": {},
   "outputs": [
    {
     "data": {
      "text/plain": [
       "array([[ 0.9683549 ,  1.23084792,  0.51488055,  0.46587025,  0.74954501],\n",
       "       [ 0.11590809,  0.12191995, -0.49291654, -0.57504846, -0.56577099],\n",
       "       [ 0.18694533,  0.12191995,  0.4411393 ,  0.35021261,  0.59107321],\n",
       "       ...,\n",
       "       [ 2.0339134 ,  1.23084792,  0.09701347, -0.11241792,  0.0205747 ],\n",
       "       [-1.23379935, -0.98700801, -0.98452488, -0.89310696, -0.9619505 ],\n",
       "       [-0.94965041, -0.98700801, -0.81246196, -0.92202136, -1.00949205]])"
      ]
     },
     "execution_count": 38,
     "metadata": {},
     "output_type": "execute_result"
    }
   ],
   "source": [
    "X_test"
   ]
  },
  {
   "cell_type": "code",
   "execution_count": 44,
   "id": "48a72475",
   "metadata": {},
   "outputs": [
    {
     "data": {
      "text/plain": [
       "LinearRegression()"
      ]
     },
     "execution_count": 44,
     "metadata": {},
     "output_type": "execute_result"
    }
   ],
   "source": [
    "## To Apply Multilinaer Regression\n",
    "from sklearn.linear_model import LinearRegression\n",
    "reg = LinearRegression()\n",
    "reg"
   ]
  },
  {
   "cell_type": "code",
   "execution_count": 46,
   "id": "8f8b69d1",
   "metadata": {},
   "outputs": [
    {
     "data": {
      "text/plain": [
       "LinearRegression()"
      ]
     },
     "execution_count": 46,
     "metadata": {},
     "output_type": "execute_result"
    }
   ],
   "source": [
    "reg.fit(X,y)"
   ]
  },
  {
   "cell_type": "code",
   "execution_count": 47,
   "id": "13d5d41a",
   "metadata": {},
   "outputs": [
    {
     "name": "stdout",
     "output_type": "stream",
     "text": [
      "1.0\n"
     ]
    }
   ],
   "source": [
    "print(reg.score(X,y))"
   ]
  },
  {
   "cell_type": "code",
   "execution_count": 55,
   "id": "574e01fc",
   "metadata": {},
   "outputs": [
    {
     "data": {
      "text/plain": [
       "array([[-5.17440284e-15,  1.37946651e-15, -4.92617852e-15,\n",
       "         4.93853006e-16,  1.00000000e+00]])"
      ]
     },
     "execution_count": 55,
     "metadata": {},
     "output_type": "execute_result"
    }
   ],
   "source": [
    "reg.coef_"
   ]
  },
  {
   "cell_type": "code",
   "execution_count": 54,
   "id": "3ad33de6",
   "metadata": {},
   "outputs": [
    {
     "data": {
      "text/plain": [
       "array([-1.13686838e-13])"
      ]
     },
     "execution_count": 54,
     "metadata": {},
     "output_type": "execute_result"
    }
   ],
   "source": [
    "reg.intercept_"
   ]
  },
  {
   "cell_type": "code",
   "execution_count": 60,
   "id": "8c271d73",
   "metadata": {},
   "outputs": [
    {
     "name": "stderr",
     "output_type": "stream",
     "text": [
      "C:\\Users\\BHUSHAN\\anaconda3\\lib\\site-packages\\sklearn\\base.py:450: UserWarning: X does not have valid feature names, but LinearRegression was fitted with feature names\n",
      "  warnings.warn(\n"
     ]
    },
    {
     "data": {
      "text/plain": [
       "array([[ 0.74954501],\n",
       "       [-0.56577099],\n",
       "       [ 0.59107321],\n",
       "       [-0.56577099],\n",
       "       [-0.78763152],\n",
       "       [-0.16959147],\n",
       "       [ 0.03642188],\n",
       "       [ 0.8446281 ],\n",
       "       [ 0.8446281 ],\n",
       "       [ 0.11565779],\n",
       "       [-0.42314636],\n",
       "       [ 2.1599441 ],\n",
       "       [ 0.0205747 ],\n",
       "       [-0.16959147],\n",
       "       [ 0.19489369],\n",
       "       [-0.02696684],\n",
       "       [-0.391452  ],\n",
       "       [-0.23298019],\n",
       "       [-1.15211667],\n",
       "       [ 0.67030911],\n",
       "       [ 1.22496043],\n",
       "       [-0.64500689],\n",
       "       [ 0.16319933],\n",
       "       [-0.34391046],\n",
       "       [ 0.44844858],\n",
       "       [-0.9619505 ],\n",
       "       [-0.75593715],\n",
       "       [-1.2947413 ],\n",
       "       [ 0.63861475],\n",
       "       [-0.13789711],\n",
       "       [ 1.4151266 ],\n",
       "       [-0.9619505 ],\n",
       "       [-0.64500689],\n",
       "       [ 1.54190405],\n",
       "       [-0.45484072],\n",
       "       [ 0.11565779],\n",
       "       [ 0.05226906],\n",
       "       [ 1.66868149],\n",
       "       [-0.9619505 ],\n",
       "       [-0.9619505 ],\n",
       "       [-1.65922645],\n",
       "       [-1.26304694],\n",
       "       [-1.18381103],\n",
       "       [-0.78763152],\n",
       "       [ 0.70200347],\n",
       "       [-0.78763152],\n",
       "       [-0.20128583],\n",
       "       [ 0.33751832],\n",
       "       [-1.23135258],\n",
       "       [ 2.27087436],\n",
       "       [ 0.55937885],\n",
       "       [ 0.81293374],\n",
       "       [-0.50238226],\n",
       "       [ 0.38505986],\n",
       "       [ 0.55937885],\n",
       "       [ 0.95555836],\n",
       "       [ 1.38343224],\n",
       "       [ 1.06648863],\n",
       "       [-1.26304694],\n",
       "       [ 0.52768448],\n",
       "       [ 1.00309991],\n",
       "       [ 0.22658805],\n",
       "       [ 0.38505986],\n",
       "       [-0.09035556],\n",
       "       [-1.04118641],\n",
       "       [-0.31221609],\n",
       "       [-1.23135258],\n",
       "       [ 0.59107321],\n",
       "       [ 0.16319933],\n",
       "       [ 0.19489369],\n",
       "       [ 0.36921268],\n",
       "       [-1.07288077],\n",
       "       [ 0.11565779],\n",
       "       [-0.64500689],\n",
       "       [-0.42314636],\n",
       "       [-0.31221609],\n",
       "       [ 1.95393075],\n",
       "       [ 1.90638921],\n",
       "       [ 1.32004352],\n",
       "       [-0.09035556],\n",
       "       [-1.12042231],\n",
       "       [-1.18381103],\n",
       "       [-0.09035556],\n",
       "       [ 0.59107321],\n",
       "       [-1.04118641],\n",
       "       [ 0.33751832],\n",
       "       [-1.04118641],\n",
       "       [-1.51660183],\n",
       "       [ 1.32004352],\n",
       "       [-1.43736592],\n",
       "       [-0.70839561],\n",
       "       [ 2.38180463],\n",
       "       [-1.2947413 ],\n",
       "       [-1.59583773],\n",
       "       [-0.94610332],\n",
       "       [-1.00949205],\n",
       "       [-0.50238226],\n",
       "       [-1.07288077],\n",
       "       [ 0.59107321],\n",
       "       [ 1.62113995],\n",
       "       [ 1.43097378],\n",
       "       [-0.78763152],\n",
       "       [ 0.52768448],\n",
       "       [-0.02696684],\n",
       "       [-0.43899354],\n",
       "       [-1.65922645],\n",
       "       [-0.45484072],\n",
       "       [-0.75593715],\n",
       "       [-0.50238226],\n",
       "       [-0.53407662],\n",
       "       [-1.12042231],\n",
       "       [-0.43899354],\n",
       "       [ 0.30582395],\n",
       "       [-0.45484072],\n",
       "       [ 1.43097378],\n",
       "       [ 0.05226906],\n",
       "       [ 0.41675422],\n",
       "       [ 2.49273489],\n",
       "       [ 0.59107321],\n",
       "       [-0.78763152],\n",
       "       [-0.0586612 ],\n",
       "       [-1.77015672],\n",
       "       [-0.34391046],\n",
       "       [-2.02371161],\n",
       "       [-0.391452  ],\n",
       "       [-0.89856178],\n",
       "       [ 0.52768448],\n",
       "       [-1.15211667],\n",
       "       [ 0.59107321],\n",
       "       [-0.86686742],\n",
       "       [-0.9619505 ],\n",
       "       [-0.53407662],\n",
       "       [ 2.82552569],\n",
       "       [-1.26304694],\n",
       "       [ 0.81293374],\n",
       "       [ 0.0205747 ],\n",
       "       [ 0.0205747 ],\n",
       "       [ 0.63861475],\n",
       "       [-0.89856178],\n",
       "       [ 0.52768448],\n",
       "       [ 0.70200347],\n",
       "       [ 0.13150497],\n",
       "       [-1.15211667],\n",
       "       [-0.09035556],\n",
       "       [-1.23135258],\n",
       "       [-0.02696684],\n",
       "       [ 0.19489369],\n",
       "       [-2.32480804],\n",
       "       [ 0.44844858],\n",
       "       [ 1.65283431],\n",
       "       [-0.34391046],\n",
       "       [-0.0586612 ],\n",
       "       [ 0.11565779],\n",
       "       [ 0.44844858],\n",
       "       [ 0.55937885],\n",
       "       [ 1.43097378],\n",
       "       [ 0.8446281 ],\n",
       "       [-0.69254843],\n",
       "       [-1.2947413 ],\n",
       "       [-0.09035556],\n",
       "       [ 0.95555836],\n",
       "       [ 0.8446281 ],\n",
       "       [-0.97779768],\n",
       "       [-0.5499238 ],\n",
       "       [-0.42314636],\n",
       "       [ 0.59107321],\n",
       "       [-0.31221609],\n",
       "       [ 1.17741889],\n",
       "       [-0.31221609],\n",
       "       [-0.78763152],\n",
       "       [-0.31221609],\n",
       "       [ 1.32004352],\n",
       "       [ 1.62113995],\n",
       "       [ 0.27412959],\n",
       "       [ 1.98562511],\n",
       "       [-1.23135258],\n",
       "       [-0.20128583],\n",
       "       [-0.75593715],\n",
       "       [ 1.22496043],\n",
       "       [ 0.11565779],\n",
       "       [-0.86686742],\n",
       "       [-1.88108698],\n",
       "       [ 0.28997677],\n",
       "       [ 1.63698713],\n",
       "       [-1.40567156],\n",
       "       [ 0.52768448],\n",
       "       [ 1.95393075],\n",
       "       [-1.54829619],\n",
       "       [-1.23135258],\n",
       "       [-1.91278135],\n",
       "       [-1.2947413 ],\n",
       "       [-1.15211667],\n",
       "       [-1.07288077],\n",
       "       [-1.15211667],\n",
       "       [-0.67670125],\n",
       "       [-1.15211667],\n",
       "       [-0.20128583],\n",
       "       [-1.04118641],\n",
       "       [ 0.27412959],\n",
       "       [-0.67670125],\n",
       "       [ 0.97140554],\n",
       "       [-2.35650241],\n",
       "       [ 1.14572453],\n",
       "       [-1.18381103],\n",
       "       [ 1.32004352],\n",
       "       [ 2.44519335],\n",
       "       [-0.75593715],\n",
       "       [-0.50238226],\n",
       "       [ 0.95555836],\n",
       "       [-0.70839561],\n",
       "       [-0.42314636],\n",
       "       [-0.391452  ],\n",
       "       [ 0.05226906],\n",
       "       [ 2.09655537],\n",
       "       [-1.23135258],\n",
       "       [ 0.55937885],\n",
       "       [ 0.16319933],\n",
       "       [ 0.08396342],\n",
       "       [ 1.95393075],\n",
       "       [ 1.28834916],\n",
       "       [-0.0586612 ],\n",
       "       [-0.34391046],\n",
       "       [ 1.03479427],\n",
       "       [ 0.52768448],\n",
       "       [ 1.2566548 ],\n",
       "       [-0.64500689],\n",
       "       [ 2.60366516],\n",
       "       [ 1.2566548 ],\n",
       "       [ 2.01731947],\n",
       "       [ 0.38505986],\n",
       "       [ 1.73207022],\n",
       "       [ 0.22658805],\n",
       "       [ 0.30582395],\n",
       "       [-0.34391046],\n",
       "       [-0.5499238 ],\n",
       "       [-1.77015672],\n",
       "       [-1.45321311],\n",
       "       [-0.53407662],\n",
       "       [-1.15211667],\n",
       "       [ 0.03642188],\n",
       "       [ 0.41675422],\n",
       "       [ 0.24243523],\n",
       "       [ 0.63861475],\n",
       "       [-0.64500689],\n",
       "       [-1.07288077],\n",
       "       [ 0.41675422],\n",
       "       [-0.50238226],\n",
       "       [ 0.38505986],\n",
       "       [ 0.49599012],\n",
       "       [-1.15211667],\n",
       "       [-0.89856178],\n",
       "       [-1.2947413 ],\n",
       "       [ 1.95393075],\n",
       "       [ 0.19489369],\n",
       "       [-1.15211667],\n",
       "       [ 1.76376458],\n",
       "       [-0.13789711],\n",
       "       [ 0.59107321],\n",
       "       [-0.09035556],\n",
       "       [ 1.54190405],\n",
       "       [ 0.38505986],\n",
       "       [-1.18381103],\n",
       "       [ 0.55937885],\n",
       "       [ 0.22658805],\n",
       "       [ 0.78123938],\n",
       "       [ 0.52768448],\n",
       "       [-0.64500689],\n",
       "       [ 0.0205747 ],\n",
       "       [-0.70839561],\n",
       "       [ 0.95555836],\n",
       "       [ 0.81293374],\n",
       "       [ 0.70200347],\n",
       "       [-1.15211667],\n",
       "       [ 0.33751832],\n",
       "       [-0.20128583],\n",
       "       [ 0.55937885],\n",
       "       [-0.34391046],\n",
       "       [-1.2947413 ],\n",
       "       [-0.64500689],\n",
       "       [-0.51822944],\n",
       "       [-0.13789711],\n",
       "       [-1.32643566],\n",
       "       [-0.02696684],\n",
       "       [-1.51660183],\n",
       "       [ 0.44844858],\n",
       "       [ 1.76376458],\n",
       "       [-0.31221609],\n",
       "       [ 0.923864  ],\n",
       "       [-0.75593715],\n",
       "       [ 0.33751832],\n",
       "       [ 0.27412959],\n",
       "       [-1.18381103],\n",
       "       [-0.61331253],\n",
       "       [ 1.47851533],\n",
       "       [ 1.95393075],\n",
       "       [-0.20128583],\n",
       "       [ 0.74954501],\n",
       "       [ 0.36921268],\n",
       "       [-1.40567156],\n",
       "       [-0.45484072],\n",
       "       [ 0.22658805],\n",
       "       [-1.04118641],\n",
       "       [-0.78763152],\n",
       "       [ 0.63861475],\n",
       "       [ 1.95393075],\n",
       "       [-0.56577099],\n",
       "       [ 0.0205747 ],\n",
       "       [-0.67670125],\n",
       "       [-1.54829619],\n",
       "       [-0.75593715],\n",
       "       [ 0.41675422],\n",
       "       [ 1.00309991],\n",
       "       [ 1.00309991],\n",
       "       [-0.89856178],\n",
       "       [-0.75593715],\n",
       "       [-1.23135258],\n",
       "       [-0.89856178],\n",
       "       [ 1.22496043],\n",
       "       [ 1.06648863],\n",
       "       [-1.26304694],\n",
       "       [-0.86686742],\n",
       "       [ 0.41675422],\n",
       "       [-0.02696684],\n",
       "       [ 2.60366516],\n",
       "       [-0.42314636],\n",
       "       [-0.09035556],\n",
       "       [-0.93025614],\n",
       "       [ 0.55937885],\n",
       "       [-0.31221609],\n",
       "       [-1.23135258],\n",
       "       [ 1.14572453],\n",
       "       [-1.12042231],\n",
       "       [ 2.77798414],\n",
       "       [ 0.70200347],\n",
       "       [-0.23298019],\n",
       "       [ 0.59107321],\n",
       "       [-0.42314636],\n",
       "       [ 0.95555836],\n",
       "       [ 0.923864  ],\n",
       "       [ 0.59107321],\n",
       "       [-0.56577099],\n",
       "       [-0.45484072],\n",
       "       [ 1.28834916],\n",
       "       [-1.12042231],\n",
       "       [-1.18381103],\n",
       "       [-0.45484072],\n",
       "       [ 0.81293374],\n",
       "       [ 1.66868149],\n",
       "       [-0.70839561],\n",
       "       [-1.15211667],\n",
       "       [ 0.0205747 ],\n",
       "       [-0.9619505 ],\n",
       "       [-1.00949205]])"
      ]
     },
     "execution_count": 60,
     "metadata": {},
     "output_type": "execute_result"
    }
   ],
   "source": [
    "## To find the prediction of model\n",
    "pred =reg.predict(X_test)\n",
    "pred"
   ]
  },
  {
   "cell_type": "code",
   "execution_count": 63,
   "id": "85f67caa",
   "metadata": {},
   "outputs": [
    {
     "name": "stdout",
     "output_type": "stream",
     "text": [
      "-15.97322061059198\n"
     ]
    }
   ],
   "source": [
    "from sklearn.metrics import r2_score\n",
    "print(r2_score(y_test,pred)"
   ]
  },
  {
   "cell_type": "code",
   "execution_count": 66,
   "id": "cf1d23ca",
   "metadata": {},
   "outputs": [
    {
     "data": {
      "text/plain": [
       "<seaborn.axisgrid.FacetGrid at 0x25ef1f410d0>"
      ]
     },
     "execution_count": 66,
     "metadata": {},
     "output_type": "execute_result"
    },
    {
     "data": {
      "image/png": "[encoded data removed]",
      "text/plain": [
       "<Figure size 655.75x500 with 1 Axes>"
      ]
     },
     "metadata": {},
     "output_type": "display_data"
    }
   ],
   "source": [
    "import seaborn as sns\n",
    "sns.displot(pred - y_test)"
   ]
  },
  {
   "cell_type": "code",
   "execution_count": null,
   "id": "c47057c4",
   "metadata": {},
   "outputs": [],
   "source": []
  }
 ],
 "metadata": {
  "kernelspec": {
   "display_name": "Python 3 (ipykernel)",
   "language": "python",
   "name": "python3"
  },
  "language_info": {
   "codemirror_mode": {
    "name": "ipython",
    "version": 3
   },
   "file_extension": ".py",
   "mimetype": "text/x-python",
   "name": "python",
   "nbconvert_exporter": "python",
   "pygments_lexer": "ipython3",
   "version": "3.9.13"
  }
 },
 "nbformat": 4,
 "nbformat_minor": 5
}
